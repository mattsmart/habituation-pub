{
 "cells": [
  {
   "cell_type": "code",
   "execution_count": null,
   "metadata": {},
   "outputs": [],
   "source": [
    "import copy\n",
    "import os\n",
    "import numpy as np\n",
    "import sys\n",
    "import types\n",
    "from scipy.interpolate import CubicSpline\n",
    "\n",
    "import matplotlib.pyplot as plt\n",
    "import matplotlib.patches as mpatches"
   ]
  },
  {
   "cell_type": "code",
   "execution_count": null,
   "metadata": {},
   "outputs": [],
   "source": [
    "%matplotlib ipympl\n",
    "#%matplotlib inline"
   ]
  },
  {
   "cell_type": "markdown",
   "metadata": {},
   "source": [
    "# Notebook setup (path trick) and local import"
   ]
  },
  {
   "cell_type": "code",
   "execution_count": null,
   "metadata": {},
   "outputs": [],
   "source": [
    "PACKAGE_ROOT = os.path.dirname(os.path.abspath(''))\n",
    "print(PACKAGE_ROOT)\n",
    "sys.path.append(PACKAGE_ROOT)"
   ]
  },
  {
   "cell_type": "code",
   "execution_count": null,
   "metadata": {},
   "outputs": [],
   "source": [
    "from src.class_ode_model import ODEModel\n",
    "from src.class_ode_stimulus import ODEStimulus\n",
    "from src.defined_stimulus import get_npulses_from_tspan, delta_fn_amp, stimulus_pulsewave\n",
    "from src.preset_ode_model import PRESETS_ODE_MODEL, ode_model_preset_factory\n",
    "from src.utils_timeseries import time_to_habituate, preprocess_signal_habituation\n",
    "from src.settings import DIR_OUTPUT\n",
    "\n",
    "from src.analyze_freq_amp_sensitivity import analyze_freq_amp_presets"
   ]
  },
  {
   "cell_type": "markdown",
   "metadata": {},
   "source": [
    "# 1. Choose model and simulate one trajectory"
   ]
  },
  {
   "cell_type": "code",
   "execution_count": null,
   "metadata": {},
   "outputs": [],
   "source": [
    "use_preset = False\n",
    "\n",
    "integration_style_stitching = True\n",
    "stitch_kwargs = {\n",
    "    'forcetol': (1e-8, 1e-4),  # ATOL, RTOL = 1e-8, 1e-4   --or--   1e-12, 1e-6\n",
    "    'max_step': np.Inf,        # np.Inf default\n",
    "}\n",
    "stitch_dynamic_max_step = True\n",
    "\n",
    "if use_preset:\n",
    "    ode_preset_base = PRESETS_ODE_MODEL['ode_custom_1_S1']\n",
    "    ode_model = ODEModel(*ode_preset_base['args'], **ode_preset_base['kwargs'])\n",
    "    \n",
    "    if integration_style_stitching:\n",
    "        if stitch_dynamic_max_step:\n",
    "            print('ode_model.ode_base.max_step_augment', ode_model.ode_base.max_step_augment)\n",
    "            stitch_kwargs['max_step'] = ode_model.ode_base.max_step_augment\n",
    "        r, times = ode_model.trajectory_pulsewave(update_history=True, **stitch_kwargs)\n",
    "        print('trajectory style: stitching')\n",
    "    else:\n",
    "        r, times = ode_model.propagate(update_history=True, \n",
    "                                       params_solver=None, verbose=False)\n",
    "        print('trajectory style: propagate')\n",
    "else:\n",
    "    traj_label = 'not_preset'\n",
    "    ode_name = 'ode_custom_4_innerout'\n",
    "    scale_tspan = True  # if True, stretch tspan based on pulse period (larger period => longer tspan) \n",
    "    \n",
    "    # MANUALLY REDEFINE DEPENDING ON ODE_NAME\n",
    "    selected_params_ode = np.array([\n",
    "        0.1,  # k_x1+ = K_1 / T_1\n",
    "        0.1,  # k_x1- =   1 / T_1\n",
    "        0.5,  # k_x2+ = K_2 / T_2\n",
    "        5.0,  # k_x2- =   1 / T_2\n",
    "        0,    # x1_high; set as a function of others param below\n",
    "        1.1,  # x1_high_mult (alpha)\n",
    "        1e6,  # 1/epsilon for 'singular perturbation' (last state eqn becomes output)\n",
    "    ])\n",
    "    ode_name = 'ode_custom_4_innerout'\n",
    "    \n",
    "    \n",
    "    # ODE settings\n",
    "    # ============================================================\n",
    "    x0, tspan, base_params_ode, ode_pvary_dict = analyze_freq_amp_presets(ode_name)\n",
    "    tspan = [0, 100.5]  # overide tspan above; for default period of 1.0: 100 pulses\n",
    "    \n",
    "    # use default params or not?\n",
    "    base_params_ode = selected_params_ode\n",
    "    \n",
    "    # STIMULUS settings\n",
    "    # ============================================================\n",
    "    stim_fn = stimulus_pulsewave\n",
    "    S1_duty = 0.01\n",
    "    S1_period = 0.265 #1.0, 0.01, 0.1\n",
    "    base_params_stim = [\n",
    "        delta_fn_amp(S1_duty, S1_period),  # amplitude\n",
    "        S1_duty,    # duty in [0,1]\n",
    "        S1_period,  # period of stimulus pulses (level 1)\n",
    "    ]\n",
    "    stim_instance = ODEStimulus(\n",
    "        stim_fn,\n",
    "        base_params_stim,\n",
    "        label='S1_manual'\n",
    "    )\n",
    "    control_objects = [stim_instance]\n",
    "    \n",
    "    if scale_tspan:\n",
    "        assert tspan[0] == 0.0\n",
    "        tspan[1] = tspan[1] * S1_period  # e.g., if t0, t1 = 0, 100.5 and period = 2.0: t1 = 201.0\n",
    "    \n",
    "    model_argprep = ode_model_preset_factory(traj_label, ode_name, control_objects,\n",
    "                                             tspan[0], tspan[1],\n",
    "                                             ode_params=base_params_ode, init_cond=x0)\n",
    "    ode_model = ODEModel(*model_argprep['args'], **model_argprep['kwargs'])\n",
    "        \n",
    "    if integration_style_stitching:\n",
    "        if stitch_dynamic_max_step:\n",
    "            print('ode_model.ode_base.max_step_augment', ode_model.ode_base.max_step_augment)\n",
    "            stitch_kwargs['max_step'] = ode_model.ode_base.max_step_augment\n",
    "        r, times = ode_model.trajectory_pulsewave(update_history=True, init_cond=x0,\n",
    "                                                  t0=tspan[0], t1=tspan[1],\n",
    "                                                  **stitch_kwargs)\n",
    "        print('trajectory style: stitching')\n",
    "    else:\n",
    "        r, times = ode_model.propagate(update_history=True, init_cond=x0,\n",
    "                                       t0=tspan[0], t1=tspan[1],\n",
    "                                       params_solver=None, verbose=False)\n",
    "        print('trajectory style: propagate')"
   ]
  },
  {
   "cell_type": "code",
   "execution_count": null,
   "metadata": {},
   "outputs": [],
   "source": [
    "%matplotlib inline\n",
    "#%matplotlib ipympl\n",
    "\n",
    "# plotting\n",
    "# - simple trajectory - stacked subplots, x_i(t) vs t\n",
    "ode_model.plot_simple_trajectory()"
   ]
  },
  {
   "cell_type": "markdown",
   "metadata": {},
   "source": [
    "### 1.1 Testing scipy.signal.find_peaks for edge cases, prominence, etc."
   ]
  },
  {
   "cell_type": "code",
   "execution_count": null,
   "metadata": {},
   "outputs": [],
   "source": [
    "plt.clf()\n",
    "%matplotlib ipympl"
   ]
  },
  {
   "cell_type": "code",
   "execution_count": null,
   "metadata": {},
   "outputs": [],
   "source": [
    "control_obj = ode_model.ode_base.control_objects[0]\n",
    "\n",
    "stim_of_t = control_obj.fn_prepped(times)\n",
    "\n",
    "output = ode_model.ode_base.output_fn(r, stim_of_t)\n",
    "times = ode_model.history_times\n",
    "\n",
    "plt.figure()\n",
    "plt.plot(times, output)\n",
    "plt.title('Signal we want to find particular peaks of')\n",
    "plt.show()"
   ]
  },
  {
   "cell_type": "code",
   "execution_count": null,
   "metadata": {},
   "outputs": [],
   "source": [
    "from scipy.signal import find_peaks\n",
    "\n",
    "peaks, properties = find_peaks(output)"
   ]
  },
  {
   "cell_type": "code",
   "execution_count": null,
   "metadata": {},
   "outputs": [],
   "source": [
    "stim_object = ode_model.ode_base.control_objects[0]\n",
    "assert stim_object.stim_fn.__name__ == 'stimulus_pulsewave'\n",
    "amp, duty, period = stim_object.params\n",
    "###period = stim_object.params[2]\n",
    "num_pulses_applied = get_npulses_from_tspan([times[0], times[-1]], duty, period)"
   ]
  },
  {
   "cell_type": "code",
   "execution_count": null,
   "metadata": {},
   "outputs": [],
   "source": [
    "does_habituate, tth_continuous, tth_discrete, reldiff, peaks, troughs = time_to_habituate(times, output, num_pulses_applied, tth_threshold=0.01)\n",
    "print(len(peaks))\n",
    "print(num_pulses_applied)"
   ]
  },
  {
   "cell_type": "code",
   "execution_count": null,
   "metadata": {},
   "outputs": [],
   "source": [
    "scale_plot_by_period = True\n",
    "\n",
    "times_local = times\n",
    "xlabel = 'wall time'\n",
    "tth_local = tth_continuous\n",
    "if scale_plot_by_period:\n",
    "    times_local = times_local / S1_period\n",
    "    xlabel = 'wall time / period'\n",
    "    tth_local = tth_continuous / S1_period\n",
    "\n",
    "plt.figure()\n",
    "plt.plot(times_local, output, '-x', linewidth=1, markersize=3, color='skyblue')\n",
    "plt.plot(times_local[peaks], output[peaks], 'o', markersize=6, color='orange', label='peak')\n",
    "plt.plot(times_local[troughs], output[troughs], 'o', markersize=6, color='red', label='trough')\n",
    "plt.fill_between(times, 0, output * control_obj.fn_prepped(times) / control_obj.params[0],\n",
    "                 facecolor='gainsboro', alpha=1.0)\n",
    "plt.title('Annotated peaks/troughs of signal')\n",
    "plt.xlabel(xlabel)\n",
    "plt.ylabel('output')\n",
    "plt.axvline(tth_local, linestyle='--', label=r'TTH for $\\epsilon=0.01$')\n",
    "plt.legend()\n",
    "plt.show()"
   ]
  },
  {
   "cell_type": "code",
   "execution_count": null,
   "metadata": {},
   "outputs": [],
   "source": [
    "plt.figure()\n",
    "plt.plot(reldiff, '--x')\n",
    "plt.axhline(0)"
   ]
  },
  {
   "cell_type": "code",
   "execution_count": null,
   "metadata": {},
   "outputs": [],
   "source": [
    "tth_threshold = 0.01\n",
    "reldiff_jitter_chopped = np.where(\n",
    "    (-tth_threshold < reldiff) * (reldiff < tth_threshold),\n",
    "    0, reldiff)\n",
    "\n",
    "plt.figure()\n",
    "plt.plot(reldiff_jitter_chopped, '--x')\n",
    "plt.axhline(0)"
   ]
  },
  {
   "cell_type": "code",
   "execution_count": null,
   "metadata": {},
   "outputs": [],
   "source": [
    "print(tth_continuous)\n",
    "print(tth_discrete)"
   ]
  },
  {
   "cell_type": "code",
   "execution_count": null,
   "metadata": {},
   "outputs": [],
   "source": [
    "print(reldiff)\n",
    "first_positive_reldiff = np.argwhere(reldiff > 0)[0, 0]\n",
    "print(first_positive_reldiff)\n",
    "peaks_below_threshold = np.argwhere(reldiff <= tth_threshold)\n",
    "print(peaks_below_threshold)\n",
    "print(peaks_below_threshold.shape)\n",
    "\n",
    "\n",
    "if len(peaks_below_threshold) > 0:  # i.e. TTH_THRESHOLD is met: the curve has habituated, pick the first appropriate timepoint\n",
    "    npulse_idx = peaks_below_threshold[first_positive_reldiff, 0]  # note: the accessing index > 0 if peaks initially increasing\n",
    "    tth_discrete = npulse_idx + 1  # note: reldiff is shifted to the right by one, need to add one here\n",
    "    tth_time_idx = peaks[tth_discrete]\n",
    "    tth_continuous = times[tth_time_idx]\n",
    "\n",
    "\n",
    "\n",
    "print(tth_continuous)\n",
    "print(tth_discrete)\n"
   ]
  },
  {
   "cell_type": "code",
   "execution_count": null,
   "metadata": {},
   "outputs": [],
   "source": [
    "plt.figure()\n",
    "plt.plot(np.arange(10), 4*np.arange(10))\n",
    "plt.title(r'$\\arg \\min_{k} \\: P(k)$')\n",
    "plt.show()"
   ]
  },
  {
   "cell_type": "code",
   "execution_count": null,
   "metadata": {},
   "outputs": [],
   "source": [
    "does_habituate, tth_continuous, tth_discrete, reldiff, peaks, troughs = time_to_habituate(\n",
    "            times, output, num_pulses_applied, tth_threshold=tth_threshold)"
   ]
  },
  {
   "cell_type": "code",
   "execution_count": null,
   "metadata": {},
   "outputs": [],
   "source": [
    "does_habituate, reldiff, peaks, troughs = preprocess_signal_habituation(times, output, num_pulses_applied, tth_threshold=tth_threshold)\n",
    "\n",
    "tth_continuous = None\n",
    "tth_discrete = None\n",
    "\n",
    "if does_habituate:\n",
    "    \"\"\"\n",
    "    Method: \n",
    "    - find K the index where reldiff first becomes positive\n",
    "    - assert that TTH index is >= k\n",
    "    \"\"\"\n",
    "    first_positive_reldiff = np.argwhere(reldiff > 0)[0, 0]\n",
    "    peaks_below_threshold = np.argwhere(reldiff <= tth_threshold)\n",
    "    \n",
    "    if len(peaks_below_threshold) > 0:  # i.e. TTH_THRESHOLD is met: the curve has habituated, pick the first appropriate timepoint\n",
    "        npulse_idx = peaks_below_threshold[first_positive_reldiff, 0]  # note: the accessing index > 0 if peaks initially increasing\n",
    "        tth_discrete = npulse_idx + 1  # note: reldiff is shifted to the right by one, need to add one here\n",
    "        tth_time_idx = peaks[tth_discrete]\n",
    "        tth_continuous = times[tth_time_idx]\n",
    "\n",
    "print(reldiff)\n",
    "print(peaks_below_threshold)\n",
    "print(first_positive_reldiff)\n",
    "print(peaks_below_threshold[first_positive_reldiff, 0])"
   ]
  },
  {
   "cell_type": "code",
   "execution_count": null,
   "metadata": {},
   "outputs": [],
   "source": []
  },
  {
   "cell_type": "code",
   "execution_count": null,
   "outputs": [],
   "source": [],
   "metadata": {
    "collapsed": false
   }
  }
 ],
 "metadata": {
  "kernelspec": {
   "name": "hab-pub",
   "language": "python",
   "display_name": "hab-pub"
  },
  "language_info": {
   "codemirror_mode": {
    "name": "ipython",
    "version": 3
   },
   "file_extension": ".py",
   "mimetype": "text/x-python",
   "name": "python",
   "nbconvert_exporter": "python",
   "pygments_lexer": "ipython3",
   "version": "3.9.6"
  }
 },
 "nbformat": 4,
 "nbformat_minor": 1
}
