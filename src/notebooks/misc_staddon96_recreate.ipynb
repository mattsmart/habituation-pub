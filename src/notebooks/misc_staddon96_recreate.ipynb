{
 "cells": [
  {
   "cell_type": "code",
   "execution_count": null,
   "metadata": {},
   "outputs": [],
   "source": [
    "import copy\n",
    "import os\n",
    "import numpy as np\n",
    "import sys\n",
    "import time\n",
    "import types\n",
    "from scipy import signal\n",
    "from scipy.interpolate import CubicSpline\n",
    "from scipy.stats import norm  # for u(t) as gaussians\n",
    "from scipy.integrate import solve_ivp\n",
    "\n",
    "import matplotlib.pyplot as plt\n",
    "import matplotlib.patches as mpatches"
   ]
  },
  {
   "cell_type": "code",
   "execution_count": null,
   "metadata": {},
   "outputs": [],
   "source": [
    "#%matplotlib widget\n",
    "%matplotlib ipympl\n",
    "#%matplotlib inline"
   ]
  },
  {
   "cell_type": "code",
   "execution_count": null,
   "metadata": {},
   "outputs": [],
   "source": [
    "plt.rcParams[\"font.family\"] = \"serif\"\n",
    "plt.rcParams[\"mathtext.fontset\"] = \"dejavuserif\""
   ]
  },
  {
   "cell_type": "markdown",
   "metadata": {},
   "source": [
    "# Notebook setup (path trick) and local import"
   ]
  },
  {
   "cell_type": "code",
   "execution_count": null,
   "metadata": {},
   "outputs": [],
   "source": [
    "SRC_ROOT = os.path.dirname(os.path.abspath(''))\n",
    "print('appending to path SRC_ROOT...', SRC_ROOT)\n",
    "sys.path.append(SRC_ROOT)\n",
    "\n",
    "PACKAGE_ROOT = os.path.dirname(os.path.dirname(os.path.abspath('')))\n",
    "print('appending to path PACKAGE_ROOT...', PACKAGE_ROOT)\n",
    "sys.path.append(PACKAGE_ROOT)\n",
    "\n",
    "NB_OUTPUT = SRC_ROOT + os.sep + 'output'\n",
    "\n",
    "if not os.path.exists(NB_OUTPUT):\n",
    "    os.makedirs(NB_OUTPUT)"
   ]
  },
  {
   "cell_type": "code",
   "execution_count": null,
   "metadata": {},
   "outputs": [],
   "source": [
    "from src.defined_ode_fn import *"
   ]
  },
  {
   "cell_type": "markdown",
   "source": [
    "# Recreate Fig. 1 of discrete model of Staddon + Higa (1996)"
   ],
   "metadata": {
    "collapsed": false
   }
  },
  {
   "cell_type": "code",
   "execution_count": null,
   "outputs": [],
   "source": [
    "Tfast = 2\n",
    "Tslow = 8\n",
    "\n",
    "u_Tfast = [1 if ((a % Tfast == 0) and a < 100) else 0 for a in range(200)]\n",
    "u_Tslow = [1 if ((a % Tslow == 0) and a < 100) else 0 for a in range(200)]\n",
    "\n",
    "a1 = 0.8\n",
    "a2 = 0.95\n",
    "a3 = 0.99\n",
    "\n",
    "b1, b2, b3 = 0.2, 0.2, 0.2\n",
    "\n",
    "def simple_relu(z):\n",
    "    return np.where(z > 0, z, 0)\n",
    "\n",
    "def sim_staddon1996_response(u):\n",
    "    \"\"\"\n",
    "    Staddon, Higa 1996 Fig. 1:  Feedforward, 3 units\n",
    "        a_1=0.8, a_2=0.95, a_3=0.99; b_k=0.2 for all\n",
    "        ISI=2 and ISI=8 mean in our language T=3 and T=9 (\"units\" of time)\n",
    "    \n",
    "    Here, the input u goes into the first unit only\n",
    "    \"\"\"\n",
    "    nn = len(u)\n",
    "    \n",
    "    arr_x = np.zeros((nn, 3))\n",
    "    arr_y_strength = np.zeros((nn, 3))\n",
    "    arr_y_out = np.zeros((nn, 3))\n",
    "    final_output = np.zeros(nn)\n",
    "    \n",
    "    # init cond \n",
    "    arr_x[0, :] = [0, 0, 0]\n",
    "    arr_y_strength[0, :] = [u[0], u[0], u[0]]\n",
    "    arr_y_out[0, :] = simple_relu(arr_y_strength[0, :])\n",
    "    \n",
    "    for i in range(1, nn):\n",
    "        \n",
    "        # BLOCK 1\n",
    "        # =================================================\n",
    "        arr_x[i, 0] = a1 * arr_x[i-1, 0] + b1 * u[i-1]\n",
    "        \n",
    "        # block 1 output ----> block 2 input\n",
    "        arr_y_strength[i, 0] = u[i-1] - arr_x[i, 0]  # TODO note that this u[i-1], previous timestep, to recreate Staddon-like-plot\n",
    "        arr_y_out[i, 0] = simple_relu(arr_y_strength[i, 0])\n",
    "        \n",
    "        # BLOCK 2\n",
    "        # =================================================\n",
    "        arr_x[i, 1] = a2 * arr_x[i-1, 1] + b2 * arr_y_out[i, 0]\n",
    "        \n",
    "        # block 2 output ----> block 3 input\n",
    "        arr_y_strength[i, 1] = arr_y_out[i, 0] - arr_x[i, 1]\n",
    "        arr_y_out[i, 1] = simple_relu(arr_y_strength[i, 1])\n",
    "\n",
    "        # BLOCK 3\n",
    "        # =================================================\n",
    "        arr_x[i, 2] = a3 * arr_x[i-1, 2] + b3 * arr_y_out[i, 1]        \n",
    "        \n",
    "        # block 3 output ----> system output\n",
    "        arr_y_strength[i, 2] = arr_y_out[i, 1] - arr_x[i, 2]\n",
    "        arr_y_out[i, 2] = simple_relu(arr_y_strength[i, 2])\n",
    "        \n",
    "    final_output[:] = arr_y_out[:, 2]\n",
    "    \n",
    "    return final_output, arr_x, arr_y_strength, arr_y_out\n",
    "\n",
    "\n",
    "def sim_staddon1996_guessing_response(u):\n",
    "    \"\"\"\n",
    "    Staddon, Higa 1996 Fig. 1:  Feedforward, 3 units\n",
    "        a_1=0.8, a_2=0.95, a_3=0.99; b_k=0.2 for all\n",
    "        ISI=2 and ISI=8 mean in our language T=3 and T=9 (\"units\" of time)\n",
    "        \n",
    "    Here, the input u goes into all the units...\n",
    "    \"\"\"\n",
    "    nn = len(u)\n",
    "    \n",
    "    arr_x = np.zeros((nn, 3))\n",
    "    arr_y_strength = np.zeros((nn, 3))\n",
    "    arr_y_out = np.zeros((nn, 3))\n",
    "    final_output = np.zeros(nn)\n",
    "    \n",
    "    # init cond \n",
    "    arr_x[0, :] = [0, 0, 0]\n",
    "    arr_y_strength[0, :] = [u[0], u[0], u[0]]\n",
    "    arr_y_out[0, :] = simple_relu(arr_y_strength[0, :])\n",
    "    \n",
    "    for i in range(1, nn):\n",
    "        \n",
    "        # BLOCK 1\n",
    "        # =================================================\n",
    "        arr_x[i, 0] = a1 * arr_x[i-1, 0] + b1 * u[i-1]\n",
    "        \n",
    "        # block 1 output ----> block 2 input\n",
    "        arr_y_strength[i, 0] = u[i-1] - arr_x[i, 0]\n",
    "        arr_y_out[i, 0] = simple_relu(arr_y_strength[i, 0])\n",
    "        \n",
    "        # BLOCK 2\n",
    "        # =================================================\n",
    "        arr_x[i, 1] = a2 * arr_x[i-1, 1] + b2 * arr_y_out[i, 0]\n",
    "        \n",
    "        # block 2 output ----> block 3 input\n",
    "        arr_y_strength[i, 1] = arr_y_out[i, 0] - arr_x[i, 1]\n",
    "        arr_y_out[i, 1] = simple_relu(arr_y_strength[i, 1])\n",
    "\n",
    "        # BLOCK 3\n",
    "        # =================================================\n",
    "        arr_x[i, 2] = a3 * arr_x[i-1, 2] + b3 * arr_y_out[i, 1]        \n",
    "        \n",
    "        # block 3 output ----> system output\n",
    "        arr_y_strength[i, 2] = arr_y_out[i, 1] - arr_x[i, 2]\n",
    "        arr_y_out[i, 2] = simple_relu(arr_y_strength[i, 2])\n",
    "        \n",
    "    final_output[:] = arr_y_out[:, 2]\n",
    "    \n",
    "    return final_output, arr_x, arr_y_strength, arr_y_out\n",
    "\n",
    "\n",
    "def plot_staddon_chain(u, x, y, yrelu):\n",
    "    nn = len(u)\n",
    "    t_discrete = np.arange(nn)\n",
    "    \n",
    "    n_chain = x.shape[1]\n",
    "    \n",
    "    fig, axarr = plt.subplots(5, n_chain+1, sharey=True, figsize=(10,5))\n",
    "    axarr[0,0].plot(t_discrete, u, c='blue')\n",
    "    for idx in range(n_chain):\n",
    "        axarr[0, idx+1].set_title('Unit %d' % (idx+1))\n",
    "        axarr[0, idx+1].plot(t_discrete, x[:, idx])\n",
    "        axarr[0, idx+1].set_ylabel(r'state $x$')\n",
    "        axarr[1, idx+1].plot(t_discrete, y[:, idx])\n",
    "        axarr[1, idx+1].set_ylabel(r'$u - x$')\n",
    "        axarr[2, idx+1].plot(t_discrete, yrelu[:, idx])\n",
    "        axarr[2, idx+1].set_ylabel(r'ReLu$(u - x)$')\n",
    "        axarr[3, idx+1].plot(t_discrete, 1 - x[:, idx])\n",
    "        axarr[3, idx+1].set_ylabel(r'$1 - x_k$')\n",
    "        axarr[4, idx+1].plot(t_discrete, 1 - np.sum(x[:, 0:idx+1], axis=1))\n",
    "        axarr[4, idx+1].set_ylabel(r'RS hypo: $1 - \\Sigma x_k$')\n",
    "        \n",
    "    plt.tight_layout()\n",
    "    return \n",
    "\n",
    "def plot_output_variations(u, x, y, yrelu):\n",
    "    \n",
    "    nn = len(u)\n",
    "    t_discrete = np.arange(nn)\n",
    "    \n",
    "    n_chain = x.shape[1]\n",
    "    assert n_chain == 3\n",
    "    \n",
    "    plt.figure(figsize=(6,5))\n",
    "    plt.axhline(0)\n",
    "    \n",
    "    hypothetical_RS = simple_relu(\n",
    "            simple_relu( \n",
    "                simple_relu(1 - x[:, 0]) \n",
    "                - x[:, 1])\n",
    "            - x[:, 2])\n",
    "\n",
    "    plt.plot(t_discrete, yrelu[:, -1], label='output of last unit')\n",
    "    \n",
    "    plt.plot(t_discrete, 1 - np.sum(x, axis=1), label='RS from paper')\n",
    "    plt.axhline(0, linestyle='--')\n",
    "    plt.axhline(-0.5, linestyle=':', c='k', alpha=0.5)\n",
    "\n",
    "    plt.plot(t_discrete, hypothetical_RS, label='Instantaneous RS of u=1 only @ t')\n",
    "    plt.title('Recreate Staddon Higa 1996 Fig. 1 - Reflex Strength options')\n",
    "\n",
    "    plt.legend()\n",
    "    plt.tight_layout()\n",
    "    return\n"
   ],
   "metadata": {
    "collapsed": false
   }
  },
  {
   "cell_type": "code",
   "execution_count": null,
   "outputs": [],
   "source": [
    "out_Tfast, x_Tfast, y_Tfast, yrelu_Tfast = sim_staddon1996_response(u_Tfast)\n",
    "out_Tslow, x_Tslow, y_Tslow, yrelu_Tslow = sim_staddon1996_response(u_Tslow)\n",
    "\n",
    "plot_staddon_chain(u_Tfast, x_Tfast, y_Tfast, yrelu_Tfast)\n",
    "plot_output_variations(u_Tfast, x_Tfast, y_Tfast, yrelu_Tfast)\n",
    "\n",
    "plot_staddon_chain(u_Tslow, x_Tslow, y_Tslow, yrelu_Tslow)\n",
    "plot_output_variations(u_Tslow, x_Tslow, y_Tslow, yrelu_Tslow)\n"
   ],
   "metadata": {
    "collapsed": false
   }
  },
  {
   "cell_type": "code",
   "execution_count": null,
   "outputs": [],
   "source": [
    "t_discrete = np.arange(len(u_Tfast))\n",
    "\n",
    "fig, axarr = plt.subplots(10, 2, squeeze=False, sharex=True,figsize=(8, 10))  #, \n",
    "\n",
    "axarr[0, 0].plot(t_discrete, u_Tfast)\n",
    "axarr[0, 0].set_title('T=%.2f' % Tfast)\n",
    "axarr[0, 0].set_ylabel(r'$u$')\n",
    "axarr[0, 1].plot(t_discrete, u_Tslow)\n",
    "axarr[0, 1].set_title('T=%.2f' % Tslow)\n",
    "axarr[0, 1].set_ylabel(r'$u$')\n",
    "\n",
    "for idx in range(3):\n",
    "    \n",
    "    loc = 1 + idx*3\n",
    "    \n",
    "    axarr[loc, 0].plot(t_discrete, x_Tfast[:, idx])\n",
    "    axarr[loc, 1].plot(t_discrete, x_Tslow[:, idx])\n",
    "    axarr[loc, 0].set_ylabel('x')\n",
    "    \n",
    "    axarr[loc+1, 0].plot(t_discrete, y_Tfast[:, idx])\n",
    "    axarr[loc+1, 1].plot(t_discrete, y_Tslow[:, idx])\n",
    "    axarr[loc+1, 0].set_ylabel('input - x')\n",
    "    \n",
    "    axarr[loc+2, 0].plot(t_discrete, yrelu_Tfast[:, idx])\n",
    "    axarr[loc+2, 1].plot(t_discrete, yrelu_Tslow[:, idx])\n",
    "    axarr[loc+2, 0].set_ylabel('ReLu(input - x)')\n",
    "\n",
    "plt.suptitle('StaddonHiga 1996 Fig 1 recreate')\n",
    "plt.tight_layout()\n",
    "plt.show()"
   ],
   "metadata": {
    "collapsed": false
   }
  },
  {
   "cell_type": "code",
   "execution_count": null,
   "outputs": [],
   "source": [
    "\n",
    "plt.close('all')\n",
    "plt.plot(t_discrete, out_Tfast)\n",
    "plt.plot(t_discrete, out_Tslow)\n",
    "plt.show()\n",
    "\n",
    "\n",
    "plt.close('all')\n",
    "plt.figure(figsize=(4,4))\n",
    "plt.suptitle('StaddonHiga 1996 Fig 1 recreate')\n",
    "plt.plot(t_discrete, (yrelu_Tfast[:, 1] - x_Tfast[:, 2]), label='ISI low (rapid)')\n",
    "plt.plot(t_discrete, (yrelu_Tslow[:, 1] - x_Tslow[:, 2]), label='ISI high (slow)')\n",
    "plt.axhline(0, linestyle='--', c='k')\n",
    "plt.axhline(0.5, linestyle='--', c='k')\n",
    "plt.legend()\n",
    "plt.ylabel('Reflex strength of block 3')\n",
    "plt.xlabel('timestep')\n",
    "plt.tight_layout()\n",
    "plt.show()\n",
    "\n",
    "'''plt.close()\n",
    "plt.plot(u_T3)\n",
    "plt.plot(u_T9)\n",
    "plt.xlim(0,20)\n",
    "plt.show()'''"
   ],
   "metadata": {
    "collapsed": false
   }
  },
  {
   "cell_type": "code",
   "execution_count": null,
   "outputs": [],
   "source": [
    "\n",
    "plt.close('all')\n",
    "plt.plot(t_discrete / Tfast, out_Tfast, '-ok')\n",
    "plt.plot(t_discrete / Tslow, out_Tslow)\n",
    "plt.xlim(0, 10)\n",
    "\n",
    "plt.show()\n",
    "\n",
    "plt.close('all')\n",
    "plt.figure(figsize=(4,4))\n",
    "plt.suptitle('StaddonHiga 1996 Fig 1 recreate')\n",
    "plt.plot(t_discrete, u_Tfast, alpha=0.5)\n",
    "plt.plot(t_discrete / Tfast, (yrelu_Tfast[:, 1] - x_Tfast[:, 2]), label='ISI low (rapid)')\n",
    "plt.plot(t_discrete / Tslow, (yrelu_Tslow[:, 1] - x_Tslow[:, 2]), label='ISI high (slow)')\n",
    "plt.axhline(0, linestyle='--', c='k')\n",
    "plt.axhline(0.5, linestyle='--', c='k')\n",
    "plt.legend()\n",
    "plt.ylabel('Reflex strength of block 3')\n",
    "plt.xlabel('timestep')\n",
    "plt.tight_layout()\n",
    "\n",
    "for idx in range(10):\n",
    "    plt.axvline(idx*2)\n",
    "    \n",
    "plt.xlim(0, 10)\n",
    "plt.show()\n"
   ],
   "metadata": {
    "collapsed": false
   }
  },
  {
   "cell_type": "code",
   "execution_count": null,
   "outputs": [],
   "source": [
    "plt.close('all')\n",
    "plt.figure(figsize=(8,6))\n",
    "plt.suptitle('StaddonHiga 1996 Fig 1 recreate')\n",
    "plt.plot(t_discrete, 1 - (x_Tfast[:, 0] + x_Tfast[:, 1] + x_Tfast[:, 2]), label='ISI low (rapid)')\n",
    "plt.plot(t_discrete, 1 - (x_Tslow[:, 0] + x_Tslow[:, 1] + x_Tslow[:, 2]), label='ISI high (slow)')\n",
    "plt.axhline(0, linestyle='--', c='k')\n",
    "plt.axhline(0.5, linestyle=':', c='k', alpha=0.5)\n",
    "plt.axhline(-0.5, linestyle=':', c='k', alpha=0.5)\n",
    "plt.legend()\n",
    "plt.ylabel('Reflex strength GUESS: 1 - (x1+x2+x3)')\n",
    "plt.xlabel('timestep')\n",
    "#plt.xlim(0, 20)\n",
    "plt.tight_layout()\n",
    "plt.show()"
   ],
   "metadata": {
    "collapsed": false
   }
  },
  {
   "cell_type": "code",
   "execution_count": null,
   "outputs": [],
   "source": [
    " plt.close('all')\n",
    "plt.figure(figsize=(8,6))\n",
    "plt.suptitle('StaddonHiga 1996 Fig 1 recreate')\n",
    "plt.plot(t_discrete, 1 - (x_Tfast[:, 2]), label='ISI low (rapid)')\n",
    "plt.plot(t_discrete, 1 - (x_Tslow[:, 2]), label='ISI high (slow)')\n",
    "plt.axhline(0, linestyle='--', c='k')\n",
    "plt.axhline(0.5, linestyle='--', c='k')\n",
    "plt.legend()\n",
    "plt.ylabel('Reflex strength GUESS: 1 - x3')\n",
    "plt.xlabel('timestep')\n",
    "#plt.xlim(0, 20)\n",
    "plt.tight_layout()\n",
    "plt.show()"
   ],
   "metadata": {
    "collapsed": false
   }
  },
  {
   "cell_type": "code",
   "execution_count": null,
   "outputs": [],
   "source": [
    "plt.close('all')\n",
    "plt.figure(figsize=(8,6))\n",
    "plt.suptitle('StaddonHiga 1996 Fig 1 recreate')\n",
    "plt.plot(t_discrete, y_Tfast[:, 2], label='ISI low (rapid)')\n",
    "plt.plot(t_discrete, y_Tslow[:, 2], label='ISI high (slow)')\n",
    "plt.axhline(0, linestyle='--', c='k')\n",
    "plt.axhline(0.5, linestyle='--', c='k')\n",
    "plt.legend()\n",
    "plt.ylabel('Reflex strength GUESS: 1 - x3')\n",
    "plt.xlabel('timestep')\n",
    "#plt.xlim(0, 20)\n",
    "plt.tight_layout()\n",
    "plt.show()"
   ],
   "metadata": {
    "collapsed": false
   }
  },
  {
   "cell_type": "code",
   "execution_count": null,
   "outputs": [],
   "source": [],
   "metadata": {
    "collapsed": false
   }
  },
  {
   "cell_type": "markdown",
   "source": [
    "# Try assuming different dynamics for the chain to recreate plots..."
   ],
   "metadata": {
    "collapsed": false
   }
  },
  {
   "cell_type": "code",
   "execution_count": null,
   "outputs": [],
   "source": [
    "out_Tfast, x_Tfast, y_Tfast, yrelu_Tfast = sim_staddon1996_guessing_response(u_Tfast)\n",
    "out_Tslow, x_Tslow, y_Tslow, yrelu_Tslow = sim_staddon1996_guessing_response(u_Tslow)\n",
    "\n",
    "plot_staddon_chain(u_Tfast, x_Tfast, y_Tfast, yrelu_Tfast)\n",
    "plot_output_variations(u_Tfast, x_Tfast, y_Tfast, yrelu_Tfast)\n",
    "\n",
    "plot_staddon_chain(u_Tslow, x_Tslow, y_Tslow, yrelu_Tslow)\n",
    "plot_output_variations(u_Tslow, x_Tslow, y_Tslow, yrelu_Tslow)"
   ],
   "metadata": {
    "collapsed": false
   }
  },
  {
   "cell_type": "code",
   "execution_count": null,
   "outputs": [],
   "source": [
    "plt.close('all')\n",
    "plt.figure(figsize=(8,6))\n",
    "plt.suptitle('StaddonHiga 1996 Fig 1 recreate')\n",
    "plt.plot(t_discrete, 1 - (x_Tfast[:, 0] + x_Tfast[:, 1] + x_Tfast[:, 2]), label='ISI low (rapid)')\n",
    "plt.plot(t_discrete, 1 - (x_Tslow[:, 0] + x_Tslow[:, 1] + x_Tslow[:, 2]), label='ISI high (slow)')\n",
    "plt.axhline(0, linestyle='--', c='k')\n",
    "plt.axhline(0.5, linestyle='--', c='k')\n",
    "plt.legend()\n",
    "plt.ylabel('Reflex strength GUESS: 1 - (x1+x2+x3)')\n",
    "plt.xlabel('timestep')\n",
    "#plt.xlim(0, 20)\n",
    "plt.tight_layout()\n",
    "plt.show()"
   ],
   "metadata": {
    "collapsed": false
   }
  },
  {
   "cell_type": "code",
   "execution_count": null,
   "outputs": [],
   "source": [],
   "metadata": {
    "collapsed": false
   }
  }
 ],
 "metadata": {
  "kernelspec": {
   "name": "hab-pub",
   "language": "python",
   "display_name": "hab-pub"
  },
  "language_info": {
   "codemirror_mode": {
    "name": "ipython",
    "version": 3
   },
   "file_extension": ".py",
   "mimetype": "text/x-python",
   "name": "python",
   "nbconvert_exporter": "python",
   "pygments_lexer": "ipython3",
   "version": "3.9.6"
  }
 },
 "nbformat": 4,
 "nbformat_minor": 1
}
