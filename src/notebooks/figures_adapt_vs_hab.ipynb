{
 "cells": [
  {
   "cell_type": "code",
   "execution_count": null,
   "outputs": [],
   "source": [
    "import copy\n",
    "import os\n",
    "import numpy as np\n",
    "import sys\n",
    "import types\n",
    "from scipy import signal\n",
    "from scipy.interpolate import CubicSpline\n",
    "from scipy.stats import norm  # for u(t) as gaussians\n",
    "\n",
    "import matplotlib.pyplot as plt\n",
    "import matplotlib.patches as mpatches\n",
    "from matplotlib.gridspec import GridSpec"
   ],
   "metadata": {
    "collapsed": false
   },
   "id": "b743423f93f934a"
  },
  {
   "cell_type": "code",
   "execution_count": null,
   "outputs": [],
   "source": [
    "%matplotlib ipympl\n",
    "#%matplotlib inline"
   ],
   "metadata": {
    "collapsed": false
   },
   "id": "59d35db5cfb4f83e"
  },
  {
   "cell_type": "code",
   "execution_count": null,
   "outputs": [],
   "source": [
    "plt.rcParams[\"font.family\"] = \"serif\"\n",
    "plt.rcParams[\"mathtext.fontset\"] = \"dejavuserif\""
   ],
   "metadata": {
    "collapsed": false
   },
   "id": "d679b2d6dcee3018"
  },
  {
   "cell_type": "markdown",
   "source": [
    "# Notebook setup (path trick) and local import"
   ],
   "metadata": {
    "collapsed": false
   },
   "id": "d87f33a4cde4ecf7"
  },
  {
   "cell_type": "code",
   "execution_count": null,
   "outputs": [],
   "source": [
    "SRC_ROOT = os.path.dirname(os.path.abspath(''))\n",
    "print('appending to path SRC_ROOT...', SRC_ROOT)\n",
    "sys.path.append(SRC_ROOT)\n",
    "\n",
    "PACKAGE_ROOT = os.path.dirname(os.path.dirname(os.path.abspath('')))\n",
    "print('appending to path PACKAGE_ROOT...', PACKAGE_ROOT)\n",
    "sys.path.append(PACKAGE_ROOT)\n",
    "\n",
    "NB_OUTPUT = SRC_ROOT + os.sep + 'output'\n",
    "\n",
    "if not os.path.exists(NB_OUTPUT):\n",
    "    os.makedirs(NB_OUTPUT)"
   ],
   "metadata": {
    "collapsed": false
   },
   "id": "7a4b2045bbcc0217"
  },
  {
   "cell_type": "code",
   "execution_count": null,
   "outputs": [],
   "source": [
    "from src.class_ode_model import ODEModel\n",
    "from src.class_ode_stimulus import ODEStimulus\n",
    "from src.defined_stimulus import get_npulses_from_tspan, delta_fn_amp, stimulus_pulsewave, stimulus_pulsewave_of_pulsewaves, stimulus_constant\n",
    "from src.preset_ode_model import PRESETS_ODE_MODEL, ode_model_preset_factory\n",
    "from src.utils_timeseries import time_to_habituate, preprocess_signal_habituation\n",
    "from src.settings import DIR_OUTPUT\n",
    "\n",
    "from src.analyze_freq_amp_sensitivity import analyze_freq_amp_presets"
   ],
   "metadata": {
    "collapsed": false
   },
   "id": "2da726e04c34868c"
  },
  {
   "cell_type": "markdown",
   "source": [
    "# Plotting functions"
   ],
   "metadata": {
    "collapsed": false
   },
   "id": "a746852d8bddf951"
  },
  {
   "cell_type": "code",
   "execution_count": null,
   "outputs": [],
   "source": [
    "color_input = '#00AEEF'\n",
    "#color_memory = '#DEB87A'  \n",
    "color_memory = '#C1A16B'  # dark: #DEB87A || darker: #D0AD73 ||| darkest: #C1A16B\n",
    "color_response = '#662D91'\n",
    "\n",
    "linewidth = 1.0\n",
    "linestyle = '-'\n",
    "\n",
    "line_kwargs_input = dict(color=color_input, linewidth=linewidth, linestyle=linestyle)\n",
    "line_kwargs_memory = dict(color=color_memory, linewidth=linewidth, linestyle=linestyle)\n",
    "#line_kwargs_memory_sigma = dict(color=color_memory, linewidth=linewidth, linestyle='dotted')\n",
    "line_kwargs_memory_sigma = dict(color=color_memory, linewidth=linewidth, linestyle=linestyle)\n",
    "line_kwargs_response = dict(color=color_response, linewidth=linewidth, linestyle=linestyle)"
   ],
   "metadata": {
    "collapsed": false
   },
   "id": "3a89e9f60e7ac10a"
  },
  {
   "cell_type": "markdown",
   "source": [
    "# Below: plan is to run k ODEs for two types of inpouts and make a chart of behavior"
   ],
   "metadata": {
    "collapsed": false
   },
   "id": "4d667cf5a55415d9"
  },
  {
   "cell_type": "code",
   "execution_count": null,
   "outputs": [],
   "source": [
    "def get_ode_traj_nb(ode_name, ode_params, stimulus_suffix):\n",
    "    \n",
    "    integration_style_stitching = True\n",
    "    stitch_kwargs = {\n",
    "        'forcetol': (1e-8, 1e-4),  # ATOL, RTOL = 1e-8, 1e-4   --or--   1e-12, 1e-6\n",
    "        'max_step': np.Inf,        # np.Inf default\n",
    "    }\n",
    "    stitch_dynamic_max_step = True\n",
    "    \n",
    "    traj_label = 'not_preset'\n",
    "    scale_tspan = True  # if True, stretch tspan based on pulse period (larger period => longer tspan) \n",
    "\n",
    "    # ODE settings\n",
    "    # ============================================================\n",
    "    if ode_params is None:\n",
    "        x0, tspan, base_params_ode, _ = analyze_freq_amp_presets(ode_name)\n",
    "    else:\n",
    "        x0, tspan, _, _ = analyze_freq_amp_presets(ode_name)\n",
    "        base_params_ode = ode_params\n",
    "    \n",
    "    # STIMULUS settings\n",
    "    # ============================================================\n",
    "    assert stimulus_suffix in ['S2', 'S1', 'S0_one']  # todo extend\n",
    "    if stimulus_suffix == 'S2':\n",
    "        tspan = [0, 200.5]  # overide tspan above; for default period of 1.0: 100 pulses\n",
    "        stim_fn = stimulus_pulsewave_of_pulsewaves\n",
    "        S1_duty = 0.01\n",
    "        S1_period = 1.0  #1.0, 0.01, 0.1\n",
    "        base_params_stim = [\n",
    "            delta_fn_amp(S1_duty, S1_period),  # amplitude\n",
    "            S1_duty,    # duty in [0,1]\n",
    "            S1_period,  # period of stimulus pulses (level 1)\n",
    "            5,  # npulse\n",
    "            5,  # nrest\n",
    "        ]\n",
    "        stim_label = 'S2_manual'\n",
    "    elif stimulus_suffix == 'S1':\n",
    "        tspan = [0, 20.5]  # overide tspan above; for default period of 1.0: 100 pulses\n",
    "        stim_fn = stimulus_pulsewave\n",
    "        S1_duty = 0.01\n",
    "        S1_period = 1.0  #1.0, 0.01, 0.1\n",
    "        base_params_stim = [\n",
    "            delta_fn_amp(S1_duty, S1_period),  # amplitude\n",
    "            S1_duty,    # duty in [0,1]\n",
    "            S1_period,  # period of stimulus pulses (level 1)\n",
    "        ]\n",
    "        stim_label = 'S1_manual'\n",
    "    else:\n",
    "        assert stimulus_suffix == 'S0_one'\n",
    "        tspan = [0, 20.5]  # overide tspan above; for default period of 1.0: 100 pulses\n",
    "        stim_fn = stimulus_constant\n",
    "        step_amplitude = 1.0\n",
    "        base_params_stim = [\n",
    "            step_amplitude\n",
    "        ]\n",
    "        stim_label = 'S_step_manual'\n",
    "        integration_style_stitching = False  # override the setting near tp of function\n",
    "    \n",
    "    stim_instance = ODEStimulus(\n",
    "        stim_fn,\n",
    "        base_params_stim,\n",
    "        label=stim_label\n",
    "    )\n",
    "    control_objects = [stim_instance]\n",
    "    \n",
    "    #if scale_tspan:\n",
    "    #    assert tspan[0] == 0.0\n",
    "    #    tspan[1] = tspan[1] * S1_period  # e.g., if t0, t1 = 0, 100.5 and period = 2.0: t1 = 201.0\n",
    "    \n",
    "    # PREPARE a new instance of ODEModel\n",
    "    # ============================================================\n",
    "    model_argprep = ode_model_preset_factory(traj_label, ode_name, control_objects,\n",
    "                                             tspan[0], tspan[1],\n",
    "                                             ode_params=base_params_ode, init_cond=x0)\n",
    "    ode_model = ODEModel(*model_argprep['args'], **model_argprep['kwargs'])\n",
    "    \n",
    "    \n",
    "    traj_kwargs = dict(verbose=True, traj_pulsewave_stitch=integration_style_stitching)\n",
    "    if stitch_dynamic_max_step:\n",
    "        print('ode_model.ode_base.max_step_augment', ode_model.ode_base.max_step_augment)\n",
    "        stitch_kwargs['max_step'] = ode_model.ode_base.max_step_augment\n",
    "    _, _, runtime = ode_model.traj_and_runtime(update_history=True, **traj_kwargs, **stitch_kwargs)\n",
    "    \n",
    "    print('...done | runtime:', runtime, '(s)')\n",
    "    \n",
    "    return ode_model"
   ],
   "metadata": {
    "collapsed": false
   },
   "id": "2aa251dde2145e68"
  },
  {
   "cell_type": "code",
   "execution_count": null,
   "outputs": [],
   "source": [],
   "metadata": {
    "collapsed": false
   },
   "id": "9b3228491f5c9b74"
  },
  {
   "cell_type": "code",
   "execution_count": null,
   "outputs": [],
   "source": [
    "\"\"\"\n",
    "#title = r'%s $u(t)$ with filter: %s'  % (fmod1, fmod2)\n",
    "rate_decay = ode_model.ode_base.params[0]\n",
    "rate_grow = ode_model.ode_base.params[1]\n",
    "title = r'plot_uxry_stack_for_ode(...) | rectangle $u(t)$; $\\alpha=%.2f$, $\\beta=%.2f$' % (rate_decay, rate_grow)\n",
    "\n",
    "fpath = NB_OUTPUT + os.sep + 'plot_uxry_stack_for_ode.pdf'\n",
    "plot_uxry_stack_for_ode(ode_model, title, fpath)\n",
    "\"\"\""
   ],
   "metadata": {
    "collapsed": false
   },
   "id": "e191f1fa2b89b529"
  },
  {
   "cell_type": "code",
   "execution_count": null,
   "outputs": [],
   "source": [
    "ode_list_to_sim = [\n",
    "    ('ode_linear_filter_1d', 'Habituating filter (direct)',\n",
    "     np.array([\n",
    "            0.1,  # alpha: timescale for x decay -- prop to x(t)\n",
    "            1,  # beta: timescale for x growth -- prop to u(t)\n",
    "        ])\n",
    "     ),\n",
    "    ('ode_linear_filter_1d_lifted', 'Habituating filter', \n",
    "     np.array([\n",
    "            0.1,   # alpha: timescale for x decay -- prop to x(t)\n",
    "            1,     # beta: timescale for x growth -- prop to u(t)\n",
    "            2,     # N: hill function, filter saturation\n",
    "            1e-2,  # epsilon: timescale for output target synchronization (should be fastest timescale)\n",
    "        ])),\n",
    "    ('ode_custom_2', 'Sniffer',  #  (Tyson) \n",
    "     np.array([\n",
    "            1,    # k_x+\n",
    "            0.1,  # k_x-\n",
    "            1,    # k_z+\n",
    "            10,   # k_z-\n",
    "         ])\n",
    "     ),\n",
    "    #('ode_custom_1', 'IFF', None),\n",
    "    ('ode_custom_5', 'Negative feedback', \n",
    "     np.array([\n",
    "            1,  # k_x+\n",
    "            1,  # k_x-\n",
    "            1,  # k_y+\n",
    "            0.1,  # k_y-\n",
    "            1,  # k_z+\n",
    "            10,  # k_z-  100\n",
    "        ])\n",
    "     ),\n",
    "    ('ode_custom_7', 'AIC', \n",
    "     np.array([\n",
    "            1,  # a1\n",
    "            1,  # a2\n",
    "            1,  # k_0\n",
    "            10,  # a3  10\n",
    "            1,   # b3\n",
    "        ])\n",
    "     ),\n",
    "    ('ode_custom_7_ferrell', 'AIC (4d-Ferrell)', \n",
    "     np.array([\n",
    "            1,  # a1    AIC-k_6\n",
    "            1,  # a2    AIC-k_4\n",
    "            10,  # k_0  AIC-k_5        def: 50\n",
    "            10,  # a3   output prod.   def: 2\n",
    "            1,  # b3    output decay\n",
    "            1,  # x_+\n",
    "            1,  # x_-           def: 3\n",
    "        ])\n",
    "     ),\n",
    "    ('ode_hallmark5', 'ode_H5 (1d)', \n",
    "     np.array([\n",
    "            0.2,   # alpha: timescale for x decay -- prop to x(t)\n",
    "            4,     # beta: timescale for x growth -- prop to u(t)\n",
    "        ])\n",
    "     ),\n",
    "    ('ode_hallmark5_lifted', 'ode_H5 (lift)', \n",
    "     np.array([\n",
    "            0.2,   # alpha: timescale for x decay -- prop to x(t)\n",
    "            4,     # beta: timescale for x growth -- prop to u(t)\n",
    "            2,     # N: hill function, filter saturation\n",
    "            1e-2,  # epsilon: timescale for output target synchronization (should be fastest timescale)\n",
    "        ])\n",
    "     )\n",
    "]\n",
    "\n",
    "ulist = ['S0_one', 'S1']"
   ],
   "metadata": {
    "collapsed": false
   },
   "id": "83bce2bbdcb4e037"
  },
  {
   "cell_type": "code",
   "execution_count": null,
   "outputs": [],
   "source": [
    "ode_solutions_LoD = {\n",
    "    ode_props[0]: {\n",
    "        k: {'t': None, 'u': None, 'x': None, 'y': None} for k in ulist\n",
    "    }\n",
    "    for ode_props in ode_list_to_sim}\n",
    "\n",
    "for uidx, ustr in enumerate(ulist):\n",
    "\n",
    "    for idx, ode_props in enumerate(ode_list_to_sim): \n",
    "        \n",
    "        ode_name, ode_title, ode_params = ode_props\n",
    "        print('\\nworking on %s (u=%s)...' % (ode_name, ustr))\n",
    "        ode_model = get_ode_traj_nb(ode_name, ode_params, ustr)\n",
    "        \n",
    "        if ode_model.ode_base.max_step_augment is None or np.isinf(ode_model.ode_base.max_step_augment):\n",
    "            force_dt = (ode_model.history_times[-1] - ode_model.history_times[0]) / 1e4  # interpolate uniformly using N=1e4 points\n",
    "        else:\n",
    "            force_dt = ode_model.ode_base.max_step_augment\n",
    "        ode_state, ode_t = ode_model.interpolate_trajectory(force_dt=force_dt)  # choose multiple of average timestep\n",
    "        ode_u = ode_model.ode_base.control_objects[0].fn_prepped(ode_t)\n",
    "        \n",
    "        ode_solutions_LoD[ode_name][ustr]['t'] = ode_t\n",
    "        ode_solutions_LoD[ode_name][ustr]['u'] = ode_u\n",
    "        ode_solutions_LoD[ode_name][ustr]['x'] = ode_state\n",
    "        #ode_solutions_LoD[ode_name][ustr]['y'] = ode_state[:, -1]  # TODO care, this assumes output is just the last\n",
    "        ode_solutions_LoD[ode_name][ustr]['y'] = ode_model.ode_base.output_fn(ode_state, ode_u)\n",
    "        \n",
    "        # state variable\n",
    "    \n",
    "    #ax[idx, 0].plot(ode_t, ode_state[:, -1])"
   ],
   "metadata": {
    "collapsed": false
   },
   "id": "a0ddcbc1bd252ffd"
  },
  {
   "cell_type": "markdown",
   "source": [
    "## Plot the data (vertical mode)"
   ],
   "metadata": {
    "collapsed": false
   },
   "id": "ed66c8093140ff2c"
  },
  {
   "cell_type": "code",
   "execution_count": null,
   "outputs": [],
   "source": [
    "line_input_kwargs = dict(color=color_input, linewidth=1)\n",
    "line_response_kwargs = dict(color=color_response, linewidth=1)\n",
    "\n",
    "_, ax = plt.subplots(1 + len(ode_list_to_sim), 2, squeeze=False, figsize=(4, 10), sharex=True)\n",
    "\n",
    "###ax[0, 0].plot(ode_list_to_sim, ode_u)\n",
    "\n",
    "for uidx, ustr in enumerate(ulist):\n",
    "    \n",
    "    topplot_t = ode_solutions_LoD[ode_list_to_sim[0][0]][ustr]['t']\n",
    "    topplot_u = ode_solutions_LoD[ode_list_to_sim[0][0]][ustr]['u']\n",
    "    ax[0, uidx].plot(topplot_t, topplot_u, **line_input_kwargs)\n",
    "    \n",
    "    for j, ode_props in enumerate(ode_list_to_sim): \n",
    "        \n",
    "        ode_name, ode_title, ode_params = ode_props\n",
    "        ode_t = ode_solutions_LoD[ode_name][ustr]['t']\n",
    "        ode_y = ode_solutions_LoD[ode_name][ustr]['y']\n",
    "        ax[j+1, uidx].plot(ode_t, ode_y, **line_response_kwargs)\n",
    "        ax[j+1, uidx].set_title(ode_title)\n",
    "\n",
    "plt.tight_layout()\n",
    "plt.show()"
   ],
   "metadata": {
    "collapsed": false
   },
   "id": "be45e5ee952a27e6"
  },
  {
   "cell_type": "markdown",
   "source": [
    "## Plot the data (horizontal mode)"
   ],
   "metadata": {
    "collapsed": false
   },
   "id": "817387dccd0f6c06"
  },
  {
   "cell_type": "code",
   "execution_count": null,
   "outputs": [],
   "source": [
    "ode_list_to_sim_subset = [ode_list_to_sim[i] for i in range(len(ode_list_to_sim)) if i in [1,2,3,4]]\n",
    "\n",
    "#_, ax = plt.subplots(2, 1 + len(ode_list_to_sim_subset), squeeze=False, figsize=(12, 3), sharex=True)\n",
    "_, ax = plt.subplots(2, 1 + len(ode_list_to_sim_subset), squeeze=False, figsize=(10, 3), sharex=True)\n",
    "\n",
    "###ax[0, 0].plot(ode_list_to_sim, ode_u)\n",
    "\n",
    "# for each row...\n",
    "for uidx, ustr in enumerate(ulist):\n",
    "    \n",
    "    topplot_t = ode_solutions_LoD[ode_list_to_sim_subset[0][0]][ustr]['t']\n",
    "    topplot_u = ode_solutions_LoD[ode_list_to_sim_subset[0][0]][ustr]['u']\n",
    "    ax[uidx, 0].plot(topplot_t, topplot_u, **line_input_kwargs)\n",
    "    \n",
    "    # for each column...\n",
    "    for j, ode_props in enumerate(ode_list_to_sim_subset): \n",
    "        \n",
    "        ode_name, ode_title, ode_params = ode_props\n",
    "        \n",
    "        ode_t = ode_solutions_LoD[ode_name][ustr]['t']\n",
    "        ode_y = ode_solutions_LoD[ode_name][ustr]['y']\n",
    "        ax[uidx, j+1].plot(ode_t, ode_y, **line_response_kwargs)\n",
    "        \n",
    "        if uidx == 0:\n",
    "            ax[uidx, j+1].set_title(ode_title)\n",
    "    \n",
    "    # change ylims for first column, i.e. u(t)\n",
    "    ax[0, 0].set_ylim(-0.1, 1.1)\n",
    "    ax[1, 0].set_ylim(-10, 110)\n",
    "    \n",
    "\n",
    "plt.tight_layout()\n",
    "fpath = NB_OUTPUT + os.sep + 'adapt_vs_hab' \n",
    "plt.savefig(fpath + '.pdf')\n",
    "plt.savefig(fpath + '.svg')\n",
    "plt.show()"
   ],
   "metadata": {
    "collapsed": false
   },
   "id": "2dc2401d7f8ac337"
  },
  {
   "cell_type": "markdown",
   "source": [
    "# Plot u x1... xN y for one of the ODEs"
   ],
   "metadata": {
    "collapsed": false
   },
   "id": "d98810be3bbac927"
  },
  {
   "cell_type": "code",
   "execution_count": null,
   "outputs": [],
   "source": [
    "def plot_uxry_stack_for_ode(ode_name, ode_title, ode_sol, fpath):\n",
    "    \"\"\"\n",
    "    Args:\n",
    "        fmod: 'rectangle', 'gaussian'\n",
    "    \"\"\"\n",
    "        \n",
    "    nstates = ode_sol['x'].shape[1]\n",
    "    \n",
    "    _, ax = plt.subplots(1 + nstates, 1, squeeze=False, figsize=(12, 3), sharex=True)\n",
    "    \n",
    "    ax[0, 0].plot(ode_sol['t'], ode_sol['u'], **line_input_kwargs)\n",
    "        \n",
    "    for j in range(nstates): \n",
    "        \n",
    "        if j == nstates-1:\n",
    "            ax[1+j, 0].plot(ode_sol['t'], ode_sol['x'][:, j], **line_response_kwargs)\n",
    "        else:\n",
    "            ax[1+j, 0].plot(ode_sol['t'], ode_sol['x'][:, j], **line_kwargs_memory)\n",
    "    \n",
    "    ax[-1, 0].set_xlabel(r'$t$')\n",
    "    ax[0, 0].set_title(ode_title)\n",
    "    \n",
    "    plt.savefig(fpath)\n",
    "    plt.show()\n",
    "    return ax"
   ],
   "metadata": {
    "collapsed": false
   },
   "id": "bac24a9cfc14c7fd"
  },
  {
   "cell_type": "code",
   "execution_count": null,
   "outputs": [],
   "source": [
    "fpath = NB_OUTPUT + os.sep + 'nb_adapt_vs_hab_traj.pdf'\n",
    "\n",
    "u_name = ulist[0]\n",
    "ode_name, ode_title, ode_params = ode_list_to_sim[0]\n",
    "selected_ode_sol = ode_solutions_LoD[ode_name][u_name]\n",
    "\n",
    "plot_uxry_stack_for_ode(ode_name, ode_title, selected_ode_sol, fpath)\n"
   ],
   "metadata": {
    "collapsed": false
   },
   "id": "8e7c6d4b20618f93"
  },
  {
   "cell_type": "code",
   "execution_count": null,
   "outputs": [],
   "source": [
    "u_name = ulist[1]\n",
    "ode_name, ode_title, ode_params = ode_list_to_sim[0]\n",
    "selected_ode_sol = ode_solutions_LoD[ode_name][u_name]\n",
    "\n",
    "plot_uxry_stack_for_ode(ode_name, ode_title, selected_ode_sol, fpath)"
   ],
   "metadata": {
    "collapsed": false
   },
   "id": "c854ba495ca48228"
  },
  {
   "cell_type": "code",
   "execution_count": null,
   "outputs": [],
   "source": [],
   "metadata": {
    "collapsed": false
   },
   "id": "1a7f6e14daacc948"
  }
 ],
 "metadata": {
  "kernelspec": {
   "name": "hab-pub",
   "language": "python",
   "display_name": "hab-pub"
  },
  "language_info": {
   "codemirror_mode": {
    "name": "ipython",
    "version": 2
   },
   "file_extension": ".py",
   "mimetype": "text/x-python",
   "name": "python",
   "nbconvert_exporter": "python",
   "pygments_lexer": "ipython2",
   "version": "2.7.6"
  }
 },
 "nbformat": 4,
 "nbformat_minor": 5
}
